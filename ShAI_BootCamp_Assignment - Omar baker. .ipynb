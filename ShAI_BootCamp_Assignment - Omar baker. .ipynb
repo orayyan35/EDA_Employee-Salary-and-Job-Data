{
 "cells": [
  {
   "cell_type": "markdown",
   "metadata": {
    "id": "9veqgG-LVKd3"
   },
   "source": [
    "#About Dataset\n",
    "salaries dataset generally provides information about the employees of an organization in relation to their compensation. It typically includes details such as how much each employee is paid (their salary), their job titles, the departments they work in, and possibly additional information like their level of experience, education, and employment history within the organization."
   ]
  },
  {
   "cell_type": "markdown",
   "metadata": {},
   "source": [
    "###  NAME = OMAR NASSER BAKER "
   ]
  },
  {
   "cell_type": "markdown",
   "metadata": {
    "id": "cZwHdpBfVzOh"
   },
   "source": [
    "# Features\n",
    "- 'Id'\n",
    "- 'EmployeeName'\n",
    "- 'JobTitle'\n",
    "- 'BasePay'\n",
    "- 'OvertimePay'\n",
    "- 'OtherPay'\n",
    "- 'Benefits'\n",
    "- 'TotalPay' -> salary\n",
    "- 'TotalPayBenefits'\n",
    "- 'Year'\n",
    "- 'Notes'\n",
    "- 'Agency'\n",
    "- 'Status'\n"
   ]
  },
  {
   "cell_type": "markdown",
   "metadata": {
    "id": "X1VJposzVrSF"
   },
   "source": [
    "# Tasks\n",
    "\n",
    "1. **Basic Data Exploration**: Identify the number of rows and columns in the dataset, determine the data types of each column, and check for missing values in each column.\n",
    "\n",
    "2. **Descriptive Statistics**: Calculate basic statistics mean, median, mode, minimum, and maximum salary, determine the range of salaries, and find the standard deviation.\n",
    "\n",
    "3. **Data Cleaning**: Handle missing data by suitable method with explain why you use it.\n",
    "\n",
    "4. **Basic Data Visualization**: Create histograms or bar charts to visualize the distribution of salaries, and use pie charts to represent the proportion of employees in different departments.\n",
    "\n",
    "5. **Grouped Analysis**: Group the data by one or more columns and calculate summary statistics for each group, and compare the average salaries across different groups.\n",
    "\n",
    "6. **Simple Correlation Analysis**: Identify any correlation between salary and another numerical column, and plot a scatter plot to visualize the relationship.\n",
    "\n",
    "8. **Summary of Insights**: Write a brief report summarizing the findings and insights from the analyses."
   ]
  },
  {
   "cell_type": "markdown",
   "metadata": {
    "id": "8_rNdHiGUT6A"
   },
   "source": [
    "# Very Important Note\n",
    "There is no fixed or singular solution for this assignment, so if anything is not clear, please do what you understand and provide an explanation."
   ]
  },
  {
   "cell_type": "markdown",
   "metadata": {},
   "source": [
    "----"
   ]
  },
  {
   "cell_type": "markdown",
   "metadata": {},
   "source": [
    "## read data "
   ]
  },
  {
   "cell_type": "code",
   "execution_count": 67,
   "metadata": {
    "colab": {
     "base_uri": "https://localhost:8080/",
     "height": 486
    },
    "id": "KmZfk5xkXI2y",
    "outputId": "e77ffddb-f533-4bac-d15a-3ea9f42b7890"
   },
   "outputs": [],
   "source": [
    "import pandas as pd\n",
    "from bs4 import BeautifulSoup\n",
    "import os\n",
    "import csv\n",
    "from itertools import zip_longest\n",
    "import nest_asyncio\n",
    "from sklearn.model_selection import train_test_split\n",
    "from sklearn.linear_model import LinearRegression\n",
    "from sklearn.tree import DecisionTreeRegressor\n",
    "from sklearn.ensemble import RandomForestClassifier, RandomForestRegressor\n",
    "from sklearn.preprocessing import LabelEncoder, Binarizer, StandardScaler\n",
    "from scipy import stats\n",
    "import matplotlib.pyplot as plt\n",
    "import numpy as np\n",
    "import re\n",
    "import seaborn as sns\n",
    "import plotly.express as px\n",
    "from sklearn.impute import SimpleImputer\n",
    "from sklearn.metrics import mean_squared_error, mean_absolute_error, r2_score\n",
    "from sklearn.feature_selection import SelectFromModel\n",
    "from sklearn.model_selection import GridSearchCV\n",
    "from sklearn.decomposition import PCA\n",
    "import statsmodels.api as sm\n",
    "from scipy.stats import linregress\n",
    "import pickle\n",
    "from sklearn.model_selection import train_test_split\n",
    "from sklearn.preprocessing import MinMaxScaler\n",
    "from sklearn.ensemble import RandomForestRegressor\n",
    "from sklearn.metrics import mean_squared_error, r2_score\n",
    "from sklearn.compose import ColumnTransformer\n",
    "from sklearn.pipeline import Pipeline\n",
    "from sklearn.impute import SimpleImputer\n",
    "from sklearn.ensemble import RandomForestRegressor\n",
    "from sklearn.model_selection import train_test_split\n",
    "from sklearn.metrics import mean_absolute_error"
   ]
  },
  {
   "cell_type": "code",
   "execution_count": 102,
   "metadata": {},
   "outputs": [
    {
     "data": {
      "text/html": [
       "<div>\n",
       "<style scoped>\n",
       "    .dataframe tbody tr th:only-of-type {\n",
       "        vertical-align: middle;\n",
       "    }\n",
       "\n",
       "    .dataframe tbody tr th {\n",
       "        vertical-align: top;\n",
       "    }\n",
       "\n",
       "    .dataframe thead th {\n",
       "        text-align: right;\n",
       "    }\n",
       "</style>\n",
       "<table border=\"1\" class=\"dataframe\">\n",
       "  <thead>\n",
       "    <tr style=\"text-align: right;\">\n",
       "      <th></th>\n",
       "      <th>Id</th>\n",
       "      <th>EmployeeName</th>\n",
       "      <th>JobTitle</th>\n",
       "      <th>BasePay</th>\n",
       "      <th>OvertimePay</th>\n",
       "      <th>OtherPay</th>\n",
       "      <th>Benefits</th>\n",
       "      <th>TotalPay</th>\n",
       "      <th>TotalPayBenefits</th>\n",
       "      <th>Year</th>\n",
       "      <th>Notes</th>\n",
       "      <th>Agency</th>\n",
       "      <th>Status</th>\n",
       "    </tr>\n",
       "  </thead>\n",
       "  <tbody>\n",
       "    <tr>\n",
       "      <th>0</th>\n",
       "      <td>1</td>\n",
       "      <td>NATHANIEL FORD</td>\n",
       "      <td>GENERAL MANAGER-METROPOLITAN TRANSIT AUTHORITY</td>\n",
       "      <td>167411.18</td>\n",
       "      <td>0.00</td>\n",
       "      <td>400184.25</td>\n",
       "      <td>NaN</td>\n",
       "      <td>567595.43</td>\n",
       "      <td>567595.43</td>\n",
       "      <td>2011</td>\n",
       "      <td>NaN</td>\n",
       "      <td>San Francisco</td>\n",
       "      <td>NaN</td>\n",
       "    </tr>\n",
       "    <tr>\n",
       "      <th>1</th>\n",
       "      <td>2</td>\n",
       "      <td>GARY JIMENEZ</td>\n",
       "      <td>CAPTAIN III (POLICE DEPARTMENT)</td>\n",
       "      <td>155966.02</td>\n",
       "      <td>245131.88</td>\n",
       "      <td>137811.38</td>\n",
       "      <td>NaN</td>\n",
       "      <td>538909.28</td>\n",
       "      <td>538909.28</td>\n",
       "      <td>2011</td>\n",
       "      <td>NaN</td>\n",
       "      <td>San Francisco</td>\n",
       "      <td>NaN</td>\n",
       "    </tr>\n",
       "    <tr>\n",
       "      <th>2</th>\n",
       "      <td>3</td>\n",
       "      <td>ALBERT PARDINI</td>\n",
       "      <td>CAPTAIN III (POLICE DEPARTMENT)</td>\n",
       "      <td>212739.13</td>\n",
       "      <td>106088.18</td>\n",
       "      <td>16452.60</td>\n",
       "      <td>NaN</td>\n",
       "      <td>335279.91</td>\n",
       "      <td>335279.91</td>\n",
       "      <td>2011</td>\n",
       "      <td>NaN</td>\n",
       "      <td>San Francisco</td>\n",
       "      <td>NaN</td>\n",
       "    </tr>\n",
       "    <tr>\n",
       "      <th>3</th>\n",
       "      <td>4</td>\n",
       "      <td>CHRISTOPHER CHONG</td>\n",
       "      <td>WIRE ROPE CABLE MAINTENANCE MECHANIC</td>\n",
       "      <td>77916.00</td>\n",
       "      <td>56120.71</td>\n",
       "      <td>198306.90</td>\n",
       "      <td>NaN</td>\n",
       "      <td>332343.61</td>\n",
       "      <td>332343.61</td>\n",
       "      <td>2011</td>\n",
       "      <td>NaN</td>\n",
       "      <td>San Francisco</td>\n",
       "      <td>NaN</td>\n",
       "    </tr>\n",
       "    <tr>\n",
       "      <th>4</th>\n",
       "      <td>5</td>\n",
       "      <td>PATRICK GARDNER</td>\n",
       "      <td>DEPUTY CHIEF OF DEPARTMENT,(FIRE DEPARTMENT)</td>\n",
       "      <td>134401.60</td>\n",
       "      <td>9737.00</td>\n",
       "      <td>182234.59</td>\n",
       "      <td>NaN</td>\n",
       "      <td>326373.19</td>\n",
       "      <td>326373.19</td>\n",
       "      <td>2011</td>\n",
       "      <td>NaN</td>\n",
       "      <td>San Francisco</td>\n",
       "      <td>NaN</td>\n",
       "    </tr>\n",
       "  </tbody>\n",
       "</table>\n",
       "</div>"
      ],
      "text/plain": [
       "   Id       EmployeeName                                        JobTitle  \\\n",
       "0   1     NATHANIEL FORD  GENERAL MANAGER-METROPOLITAN TRANSIT AUTHORITY   \n",
       "1   2       GARY JIMENEZ                 CAPTAIN III (POLICE DEPARTMENT)   \n",
       "2   3     ALBERT PARDINI                 CAPTAIN III (POLICE DEPARTMENT)   \n",
       "3   4  CHRISTOPHER CHONG            WIRE ROPE CABLE MAINTENANCE MECHANIC   \n",
       "4   5    PATRICK GARDNER    DEPUTY CHIEF OF DEPARTMENT,(FIRE DEPARTMENT)   \n",
       "\n",
       "     BasePay  OvertimePay   OtherPay  Benefits   TotalPay  TotalPayBenefits  \\\n",
       "0  167411.18         0.00  400184.25       NaN  567595.43         567595.43   \n",
       "1  155966.02    245131.88  137811.38       NaN  538909.28         538909.28   \n",
       "2  212739.13    106088.18   16452.60       NaN  335279.91         335279.91   \n",
       "3   77916.00     56120.71  198306.90       NaN  332343.61         332343.61   \n",
       "4  134401.60      9737.00  182234.59       NaN  326373.19         326373.19   \n",
       "\n",
       "   Year  Notes         Agency  Status  \n",
       "0  2011    NaN  San Francisco     NaN  \n",
       "1  2011    NaN  San Francisco     NaN  \n",
       "2  2011    NaN  San Francisco     NaN  \n",
       "3  2011    NaN  San Francisco     NaN  \n",
       "4  2011    NaN  San Francisco     NaN  "
      ]
     },
     "execution_count": 102,
     "metadata": {},
     "output_type": "execute_result"
    }
   ],
   "source": [
    "\n",
    "df = pd.read_csv('Salaries.csv')\n",
    "df.head()"
   ]
  },
  {
   "cell_type": "markdown",
   "metadata": {},
   "source": [
    "----"
   ]
  },
  {
   "cell_type": "markdown",
   "metadata": {},
   "source": [
    "## Understanding data"
   ]
  },
  {
   "cell_type": "code",
   "execution_count": 103,
   "metadata": {
    "colab": {
     "base_uri": "https://localhost:8080/"
    },
    "id": "xIT514wlvvBZ",
    "outputId": "9ecf152c-554a-4cf6-d667-efc95c16d489"
   },
   "outputs": [
    {
     "data": {
      "text/plain": [
       "Index(['Id', 'EmployeeName', 'JobTitle', 'BasePay', 'OvertimePay', 'OtherPay',\n",
       "       'Benefits', 'TotalPay', 'TotalPayBenefits', 'Year', 'Notes', 'Agency',\n",
       "       'Status'],\n",
       "      dtype='object')"
      ]
     },
     "execution_count": 103,
     "metadata": {},
     "output_type": "execute_result"
    }
   ],
   "source": [
    "df.columns"
   ]
  },
  {
   "cell_type": "code",
   "execution_count": 104,
   "metadata": {
    "id": "bbIN2ujHUyRx"
   },
   "outputs": [
    {
     "data": {
      "text/html": [
       "<div>\n",
       "<style scoped>\n",
       "    .dataframe tbody tr th:only-of-type {\n",
       "        vertical-align: middle;\n",
       "    }\n",
       "\n",
       "    .dataframe tbody tr th {\n",
       "        vertical-align: top;\n",
       "    }\n",
       "\n",
       "    .dataframe thead th {\n",
       "        text-align: right;\n",
       "    }\n",
       "</style>\n",
       "<table border=\"1\" class=\"dataframe\">\n",
       "  <thead>\n",
       "    <tr style=\"text-align: right;\">\n",
       "      <th></th>\n",
       "      <th>Id</th>\n",
       "      <th>EmployeeName</th>\n",
       "      <th>JobTitle</th>\n",
       "      <th>BasePay</th>\n",
       "      <th>OvertimePay</th>\n",
       "      <th>OtherPay</th>\n",
       "      <th>Benefits</th>\n",
       "      <th>TotalPay</th>\n",
       "      <th>TotalPayBenefits</th>\n",
       "      <th>Year</th>\n",
       "      <th>Notes</th>\n",
       "      <th>Agency</th>\n",
       "      <th>Status</th>\n",
       "    </tr>\n",
       "  </thead>\n",
       "  <tbody>\n",
       "    <tr>\n",
       "      <th>0</th>\n",
       "      <td>1</td>\n",
       "      <td>NATHANIEL FORD</td>\n",
       "      <td>GENERAL MANAGER-METROPOLITAN TRANSIT AUTHORITY</td>\n",
       "      <td>167411.18</td>\n",
       "      <td>0.00</td>\n",
       "      <td>400184.25</td>\n",
       "      <td>NaN</td>\n",
       "      <td>567595.43</td>\n",
       "      <td>567595.43</td>\n",
       "      <td>2011</td>\n",
       "      <td>NaN</td>\n",
       "      <td>San Francisco</td>\n",
       "      <td>NaN</td>\n",
       "    </tr>\n",
       "    <tr>\n",
       "      <th>1</th>\n",
       "      <td>2</td>\n",
       "      <td>GARY JIMENEZ</td>\n",
       "      <td>CAPTAIN III (POLICE DEPARTMENT)</td>\n",
       "      <td>155966.02</td>\n",
       "      <td>245131.88</td>\n",
       "      <td>137811.38</td>\n",
       "      <td>NaN</td>\n",
       "      <td>538909.28</td>\n",
       "      <td>538909.28</td>\n",
       "      <td>2011</td>\n",
       "      <td>NaN</td>\n",
       "      <td>San Francisco</td>\n",
       "      <td>NaN</td>\n",
       "    </tr>\n",
       "    <tr>\n",
       "      <th>2</th>\n",
       "      <td>3</td>\n",
       "      <td>ALBERT PARDINI</td>\n",
       "      <td>CAPTAIN III (POLICE DEPARTMENT)</td>\n",
       "      <td>212739.13</td>\n",
       "      <td>106088.18</td>\n",
       "      <td>16452.60</td>\n",
       "      <td>NaN</td>\n",
       "      <td>335279.91</td>\n",
       "      <td>335279.91</td>\n",
       "      <td>2011</td>\n",
       "      <td>NaN</td>\n",
       "      <td>San Francisco</td>\n",
       "      <td>NaN</td>\n",
       "    </tr>\n",
       "    <tr>\n",
       "      <th>3</th>\n",
       "      <td>4</td>\n",
       "      <td>CHRISTOPHER CHONG</td>\n",
       "      <td>WIRE ROPE CABLE MAINTENANCE MECHANIC</td>\n",
       "      <td>77916.00</td>\n",
       "      <td>56120.71</td>\n",
       "      <td>198306.90</td>\n",
       "      <td>NaN</td>\n",
       "      <td>332343.61</td>\n",
       "      <td>332343.61</td>\n",
       "      <td>2011</td>\n",
       "      <td>NaN</td>\n",
       "      <td>San Francisco</td>\n",
       "      <td>NaN</td>\n",
       "    </tr>\n",
       "    <tr>\n",
       "      <th>4</th>\n",
       "      <td>5</td>\n",
       "      <td>PATRICK GARDNER</td>\n",
       "      <td>DEPUTY CHIEF OF DEPARTMENT,(FIRE DEPARTMENT)</td>\n",
       "      <td>134401.60</td>\n",
       "      <td>9737.00</td>\n",
       "      <td>182234.59</td>\n",
       "      <td>NaN</td>\n",
       "      <td>326373.19</td>\n",
       "      <td>326373.19</td>\n",
       "      <td>2011</td>\n",
       "      <td>NaN</td>\n",
       "      <td>San Francisco</td>\n",
       "      <td>NaN</td>\n",
       "    </tr>\n",
       "  </tbody>\n",
       "</table>\n",
       "</div>"
      ],
      "text/plain": [
       "   Id       EmployeeName                                        JobTitle  \\\n",
       "0   1     NATHANIEL FORD  GENERAL MANAGER-METROPOLITAN TRANSIT AUTHORITY   \n",
       "1   2       GARY JIMENEZ                 CAPTAIN III (POLICE DEPARTMENT)   \n",
       "2   3     ALBERT PARDINI                 CAPTAIN III (POLICE DEPARTMENT)   \n",
       "3   4  CHRISTOPHER CHONG            WIRE ROPE CABLE MAINTENANCE MECHANIC   \n",
       "4   5    PATRICK GARDNER    DEPUTY CHIEF OF DEPARTMENT,(FIRE DEPARTMENT)   \n",
       "\n",
       "     BasePay  OvertimePay   OtherPay  Benefits   TotalPay  TotalPayBenefits  \\\n",
       "0  167411.18         0.00  400184.25       NaN  567595.43         567595.43   \n",
       "1  155966.02    245131.88  137811.38       NaN  538909.28         538909.28   \n",
       "2  212739.13    106088.18   16452.60       NaN  335279.91         335279.91   \n",
       "3   77916.00     56120.71  198306.90       NaN  332343.61         332343.61   \n",
       "4  134401.60      9737.00  182234.59       NaN  326373.19         326373.19   \n",
       "\n",
       "   Year  Notes         Agency  Status  \n",
       "0  2011    NaN  San Francisco     NaN  \n",
       "1  2011    NaN  San Francisco     NaN  \n",
       "2  2011    NaN  San Francisco     NaN  \n",
       "3  2011    NaN  San Francisco     NaN  \n",
       "4  2011    NaN  San Francisco     NaN  "
      ]
     },
     "execution_count": 104,
     "metadata": {},
     "output_type": "execute_result"
    }
   ],
   "source": [
    "df.head(n=5)"
   ]
  },
  {
   "cell_type": "markdown",
   "metadata": {},
   "source": [
    "df.describe()"
   ]
  },
  {
   "cell_type": "code",
   "execution_count": 105,
   "metadata": {},
   "outputs": [
    {
     "data": {
      "text/plain": [
       "(148654, 13)"
      ]
     },
     "execution_count": 105,
     "metadata": {},
     "output_type": "execute_result"
    }
   ],
   "source": [
    "df.shape"
   ]
  },
  {
   "cell_type": "code",
   "execution_count": 106,
   "metadata": {},
   "outputs": [],
   "source": [
    "# we have (148654)row \n",
    "# we have (13) columns"
   ]
  },
  {
   "cell_type": "markdown",
   "metadata": {},
   "source": [
    "-----"
   ]
  },
  {
   "cell_type": "code",
   "execution_count": 107,
   "metadata": {},
   "outputs": [],
   "source": [
    "## chack if we have missing value "
   ]
  },
  {
   "cell_type": "code",
   "execution_count": 108,
   "metadata": {},
   "outputs": [
    {
     "data": {
      "text/plain": [
       "Id                       0\n",
       "EmployeeName             0\n",
       "JobTitle                 0\n",
       "BasePay                609\n",
       "OvertimePay              4\n",
       "OtherPay                 4\n",
       "Benefits             36163\n",
       "TotalPay                 0\n",
       "TotalPayBenefits         0\n",
       "Year                     0\n",
       "Notes               148654\n",
       "Agency                   0\n",
       "Status              148654\n",
       "dtype: int64"
      ]
     },
     "execution_count": 108,
     "metadata": {},
     "output_type": "execute_result"
    }
   ],
   "source": [
    "df.isna().sum()"
   ]
  },
  {
   "cell_type": "code",
   "execution_count": 109,
   "metadata": {},
   "outputs": [
    {
     "data": {
      "text/plain": [
       "Id                    0.000000\n",
       "EmployeeName          0.000000\n",
       "JobTitle              0.000000\n",
       "BasePay               0.409676\n",
       "OvertimePay           0.002691\n",
       "OtherPay              0.002691\n",
       "Benefits             24.326961\n",
       "TotalPay              0.000000\n",
       "TotalPayBenefits      0.000000\n",
       "Year                  0.000000\n",
       "Notes               100.000000\n",
       "Agency                0.000000\n",
       "Status              100.000000\n",
       "dtype: float64"
      ]
     },
     "execution_count": 109,
     "metadata": {},
     "output_type": "execute_result"
    }
   ],
   "source": [
    "df.isnull().sum() / len(df) * 100\n"
   ]
  },
  {
   "cell_type": "markdown",
   "metadata": {},
   "source": []
  },
  {
   "cell_type": "code",
   "execution_count": 110,
   "metadata": {},
   "outputs": [],
   "source": [
    "df= df.drop(\"Status\" , axis = 1 )"
   ]
  },
  {
   "cell_type": "code",
   "execution_count": 111,
   "metadata": {
    "id": "_dovy31FUyUF"
   },
   "outputs": [],
   "source": [
    "df= df.drop(\"Notes\" , axis  =1 )"
   ]
  },
  {
   "cell_type": "code",
   "execution_count": 112,
   "metadata": {},
   "outputs": [
    {
     "data": {
      "text/plain": [
       "Id                   0.000000\n",
       "EmployeeName         0.000000\n",
       "JobTitle             0.000000\n",
       "BasePay              0.409676\n",
       "OvertimePay          0.002691\n",
       "OtherPay             0.002691\n",
       "Benefits            24.326961\n",
       "TotalPay             0.000000\n",
       "TotalPayBenefits     0.000000\n",
       "Year                 0.000000\n",
       "Agency               0.000000\n",
       "dtype: float64"
      ]
     },
     "execution_count": 112,
     "metadata": {},
     "output_type": "execute_result"
    }
   ],
   "source": [
    "df.isnull().sum() / len(df) * 100"
   ]
  },
  {
   "cell_type": "markdown",
   "metadata": {},
   "source": [
    "-----"
   ]
  },
  {
   "cell_type": "code",
   "execution_count": 113,
   "metadata": {},
   "outputs": [
    {
     "data": {
      "text/plain": [
       "0         NaN\n",
       "1         NaN\n",
       "2         NaN\n",
       "3         NaN\n",
       "4         NaN\n",
       "         ... \n",
       "148649    0.0\n",
       "148650    NaN\n",
       "148651    NaN\n",
       "148652    NaN\n",
       "148653    0.0\n",
       "Name: Benefits, Length: 148654, dtype: float64"
      ]
     },
     "execution_count": 113,
     "metadata": {},
     "output_type": "execute_result"
    }
   ],
   "source": [
    "df[\"Benefits\"]"
   ]
  },
  {
   "cell_type": "code",
   "execution_count": 114,
   "metadata": {},
   "outputs": [
    {
     "data": {
      "text/plain": [
       "array([         nan, 4.443012e+04, 6.981019e+04, ..., 2.200000e-01,\n",
       "       1.300000e-01, 1.240000e+00])"
      ]
     },
     "execution_count": 114,
     "metadata": {},
     "output_type": "execute_result"
    }
   ],
   "source": [
    "df[\"Benefits\"].unique()"
   ]
  },
  {
   "cell_type": "code",
   "execution_count": 115,
   "metadata": {},
   "outputs": [
    {
     "data": {
      "text/plain": [
       "98465"
      ]
     },
     "execution_count": 115,
     "metadata": {},
     "output_type": "execute_result"
    }
   ],
   "source": [
    "df[\"Benefits\"].nunique()"
   ]
  },
  {
   "cell_type": "code",
   "execution_count": 116,
   "metadata": {},
   "outputs": [],
   "source": [
    "import seaborn as sns\n",
    "import matplotlib.pyplot as plt"
   ]
  },
  {
   "cell_type": "code",
   "execution_count": 117,
   "metadata": {},
   "outputs": [
    {
     "name": "stderr",
     "output_type": "stream",
     "text": [
      "/var/folders/8p/bff3r6t55wvfx0c5vm3vybw40000gn/T/ipykernel_24719/1831818948.py:2: FutureWarning: The default value of numeric_only in DataFrame.corrwith is deprecated. In a future version, it will default to False. Select only valid columns or specify the value of numeric_only to silence this warning.\n",
      "  correlation_matrix = df.corrwith(df[target_column_name])\n"
     ]
    },
    {
     "data": {
      "image/png": "[encoded data removed]",
      "text/plain": [
       "<Figure size 1200x600 with 1 Axes>"
      ]
     },
     "metadata": {},
     "output_type": "display_data"
    }
   ],
   "source": [
    "target_column_name = 'Benefits'\n",
    "correlation_matrix = df.corrwith(df[target_column_name])\n",
    "plt.figure(figsize=(12, 6))\n",
    "sns.heatmap(correlation_matrix.to_frame(), annot=True, cmap='coolwarm', fmt=\".2f\", cbar=False)\n",
    "plt.title(f'Correlation with {target_column_name}')\n",
    "plt.show()\n"
   ]
  },
  {
   "cell_type": "code",
   "execution_count": 118,
   "metadata": {},
   "outputs": [],
   "source": [
    "\n",
    "\n",
    "def impute_and_predict(df, target_column, columns_to_drop=None):\n",
    "    if columns_to_drop is None:\n",
    "        columns_to_drop = []\n",
    "    df_without_null = df.dropna(subset=[target_column])\n",
    "    X = df_without_null.drop(columns=columns_to_drop + [target_column], axis=1)\n",
    "    y = df_without_null[target_column]\n",
    "    \n",
    "    X_train, X_test, y_train, y_test = train_test_split(X, y, test_size=0.2, random_state=42)\n",
    "    \n",
    "    numeric_features = X.select_dtypes(include=['number']).columns\n",
    "    non_numeric_features = X.select_dtypes(exclude=['number']).columns\n",
    "    \n",
    "    numeric_transformer = Pipeline(steps=[\n",
    "        ('imputer', SimpleImputer(strategy='mean'))\n",
    "    ])\n",
    "    \n",
    "    non_numeric_transformer = Pipeline(steps=[\n",
    "        ('imputer', SimpleImputer(strategy='most_frequent'))\n",
    "    ])\n",
    "    \n",
    "    preprocessor = ColumnTransformer(\n",
    "        transformers=[\n",
    "            ('num', numeric_transformer, numeric_features),\n",
    "            ('cat', non_numeric_transformer, non_numeric_features)\n",
    "        ])\n",
    "    \n",
    "    model = Pipeline(steps=[('preprocessor', preprocessor),\n",
    "                            ('model', RandomForestRegressor())])\n",
    "    model.fit(X_train, y_train)\n",
    "    missing_values = df[df[target_column].isnull()].drop(columns=columns_to_drop + [target_column], axis=1)\n",
    "    if not missing_values.empty:\n",
    "        imputed_values = model.predict(missing_values)\n",
    "        df.loc[df[target_column].isnull(), target_column] = imputed_values\n",
    "    else:\n",
    "        print(\"No missing data\")\n",
    "    if not X_test.empty:\n",
    "        y_pred = model.predict(X_test)\n",
    "        r2 = r2_score(y_test, y_pred)  # Use y_test instead of y\n",
    "        print(f\"R-squared (R2) score on the test set: {r2}\")\n"
   ]
  },
  {
   "cell_type": "code",
   "execution_count": 119,
   "metadata": {},
   "outputs": [
    {
     "name": "stdout",
     "output_type": "stream",
     "text": [
      "R-squared (R2) score on the test set: 0.9977991897432613\n"
     ]
    }
   ],
   "source": [
    "impute_and_predict(df, \"Benefits\", columns_to_drop=[\"Benefits\" , \"Id\" , \"JobTitle\" , \"EmployeeName\" , \"Agency\"])"
   ]
  },
  {
   "cell_type": "code",
   "execution_count": 120,
   "metadata": {},
   "outputs": [
    {
     "data": {
      "text/plain": [
       "0"
      ]
     },
     "execution_count": 120,
     "metadata": {},
     "output_type": "execute_result"
    }
   ],
   "source": [
    "df[\"Benefits\"].isna().sum()"
   ]
  },
  {
   "cell_type": "markdown",
   "metadata": {},
   "source": [
    "---------------"
   ]
  },
  {
   "cell_type": "markdown",
   "metadata": {},
   "source": [
    "## OvertimePay"
   ]
  },
  {
   "cell_type": "code",
   "execution_count": 121,
   "metadata": {},
   "outputs": [
    {
     "name": "stderr",
     "output_type": "stream",
     "text": [
      "/var/folders/8p/bff3r6t55wvfx0c5vm3vybw40000gn/T/ipykernel_24719/2914034386.py:2: FutureWarning: The default value of numeric_only in DataFrame.corrwith is deprecated. In a future version, it will default to False. Select only valid columns or specify the value of numeric_only to silence this warning.\n",
      "  correlation_matrix = df.corrwith(df[target_column_name])\n"
     ]
    },
    {
     "data": {
      "image/png": "[encoded data removed]",
      "text/plain": [
       "<Figure size 1200x600 with 1 Axes>"
      ]
     },
     "metadata": {},
     "output_type": "display_data"
    }
   ],
   "source": [
    "target_column_name = 'OvertimePay'\n",
    "correlation_matrix = df.corrwith(df[target_column_name])\n",
    "plt.figure(figsize=(12, 6))\n",
    "sns.heatmap(correlation_matrix.to_frame(), annot=True, cmap='coolwarm', fmt=\".2f\", cbar=False)\n",
    "plt.title(f'Correlation with {target_column_name}')\n",
    "plt.show()\n"
   ]
  },
  {
   "cell_type": "code",
   "execution_count": 122,
   "metadata": {},
   "outputs": [
    {
     "name": "stdout",
     "output_type": "stream",
     "text": [
      "R-squared (R2) score on the test set: 0.9847650781471797\n"
     ]
    }
   ],
   "source": [
    "impute_and_predict(df, \"OvertimePay\", columns_to_drop=[\"OvertimePay\" , \"Id\" , \"JobTitle\" , \"EmployeeName\" , \"Agency\"])"
   ]
  },
  {
   "cell_type": "code",
   "execution_count": 123,
   "metadata": {},
   "outputs": [
    {
     "data": {
      "text/plain": [
       "Id                  0.000000\n",
       "EmployeeName        0.000000\n",
       "JobTitle            0.000000\n",
       "BasePay             0.409676\n",
       "OvertimePay         0.000000\n",
       "OtherPay            0.002691\n",
       "Benefits            0.000000\n",
       "TotalPay            0.000000\n",
       "TotalPayBenefits    0.000000\n",
       "Year                0.000000\n",
       "Agency              0.000000\n",
       "dtype: float64"
      ]
     },
     "execution_count": 123,
     "metadata": {},
     "output_type": "execute_result"
    }
   ],
   "source": [
    "df.isnull().sum() / len(df) * 100"
   ]
  },
  {
   "cell_type": "code",
   "execution_count": 124,
   "metadata": {},
   "outputs": [
    {
     "name": "stderr",
     "output_type": "stream",
     "text": [
      "/var/folders/8p/bff3r6t55wvfx0c5vm3vybw40000gn/T/ipykernel_24719/1728864232.py:2: FutureWarning: The default value of numeric_only in DataFrame.corrwith is deprecated. In a future version, it will default to False. Select only valid columns or specify the value of numeric_only to silence this warning.\n",
      "  correlation_matrix = df.corrwith(df[target_column_name])\n"
     ]
    },
    {
     "data": {
      "image/png": "[encoded data removed]",
      "text/plain": [
       "<Figure size 1200x600 with 1 Axes>"
      ]
     },
     "metadata": {},
     "output_type": "display_data"
    }
   ],
   "source": [
    "target_column_name = 'BasePay'\n",
    "correlation_matrix = df.corrwith(df[target_column_name])\n",
    "plt.figure(figsize=(12, 6))\n",
    "sns.heatmap(correlation_matrix.to_frame(), annot=True, cmap='coolwarm', fmt=\".2f\", cbar=False)\n",
    "plt.title(f'Correlation with {target_column_name}')\n",
    "plt.show()\n"
   ]
  },
  {
   "cell_type": "code",
   "execution_count": 125,
   "metadata": {},
   "outputs": [
    {
     "name": "stdout",
     "output_type": "stream",
     "text": [
      "R-squared (R2) score on the test set: 0.9992467942188485\n"
     ]
    }
   ],
   "source": [
    "impute_and_predict(df, \"BasePay\", columns_to_drop=[\"BasePay\" , \"Id\" , \"JobTitle\" , \"EmployeeName\" , \"Agency\"])"
   ]
  },
  {
   "cell_type": "code",
   "execution_count": 126,
   "metadata": {},
   "outputs": [
    {
     "data": {
      "text/plain": [
       "Id                  0.000000\n",
       "EmployeeName        0.000000\n",
       "JobTitle            0.000000\n",
       "BasePay             0.000000\n",
       "OvertimePay         0.000000\n",
       "OtherPay            0.002691\n",
       "Benefits            0.000000\n",
       "TotalPay            0.000000\n",
       "TotalPayBenefits    0.000000\n",
       "Year                0.000000\n",
       "Agency              0.000000\n",
       "dtype: float64"
      ]
     },
     "execution_count": 126,
     "metadata": {},
     "output_type": "execute_result"
    }
   ],
   "source": [
    "df.isnull().sum() / len(df) * 100"
   ]
  },
  {
   "cell_type": "code",
   "execution_count": 127,
   "metadata": {},
   "outputs": [
    {
     "name": "stderr",
     "output_type": "stream",
     "text": [
      "/var/folders/8p/bff3r6t55wvfx0c5vm3vybw40000gn/T/ipykernel_24719/1543112759.py:2: FutureWarning: The default value of numeric_only in DataFrame.corrwith is deprecated. In a future version, it will default to False. Select only valid columns or specify the value of numeric_only to silence this warning.\n",
      "  correlation_matrix = df.corrwith(df[target_column_name])\n"
     ]
    },
    {
     "data": {
      "image/png": "[encoded data removed]",
      "text/plain": [
       "<Figure size 1200x600 with 1 Axes>"
      ]
     },
     "metadata": {},
     "output_type": "display_data"
    }
   ],
   "source": [
    "target_column_name = 'OtherPay'\n",
    "correlation_matrix = df.corrwith(df[target_column_name])\n",
    "plt.figure(figsize=(12, 6))\n",
    "sns.heatmap(correlation_matrix.to_frame(), annot=True, cmap='coolwarm', fmt=\".2f\", cbar=False)\n",
    "plt.title(f'Correlation with {target_column_name}')\n",
    "plt.show()\n"
   ]
  },
  {
   "cell_type": "code",
   "execution_count": 128,
   "metadata": {},
   "outputs": [
    {
     "name": "stdout",
     "output_type": "stream",
     "text": [
      "R-squared (R2) score on the test set: 0.9589801337169963\n"
     ]
    }
   ],
   "source": [
    "impute_and_predict(df, \"OtherPay\", columns_to_drop=[\"OtherPay\" , \"Id\" , \"JobTitle\" , \"EmployeeName\" , \"Agency\"])"
   ]
  },
  {
   "cell_type": "markdown",
   "metadata": {},
   "source": [
    "## We notice that r squarer has a high value, and this is called overfit. It must be smoothed, but we need to adjust the excess data because we want to store the new expected data and replace it with the missing data to give us data that is close to the real thing and to give us a correct prediction."
   ]
  },
  {
   "cell_type": "markdown",
   "metadata": {},
   "source": [
    "----------------"
   ]
  },
  {
   "cell_type": "markdown",
   "metadata": {},
   "source": [
    "Descriptive Statistics: Calculate basic statistics mean, median, mode, minimum, and maximum salary, determine the range of salaries, and find the standard deviation."
   ]
  },
  {
   "cell_type": "code",
   "execution_count": 129,
   "metadata": {},
   "outputs": [
    {
     "data": {
      "text/plain": [
       "count    148654.000000\n",
       "mean      74768.321972\n",
       "std       50517.005274\n",
       "min        -618.130000\n",
       "25%       36168.995000\n",
       "50%       71426.610000\n",
       "75%      105839.135000\n",
       "max      567595.430000\n",
       "Name: TotalPay, dtype: float64"
      ]
     },
     "execution_count": 129,
     "metadata": {},
     "output_type": "execute_result"
    }
   ],
   "source": [
    "df[\"TotalPay\"].describe()"
   ]
  },
  {
   "cell_type": "code",
   "execution_count": 131,
   "metadata": {},
   "outputs": [],
   "source": [
    "df = df[df[\"TotalPay\"] > 0]\n"
   ]
  },
  {
   "cell_type": "code",
   "execution_count": 132,
   "metadata": {},
   "outputs": [
    {
     "data": {
      "text/plain": [
       "0         567595.43\n",
       "1         538909.28\n",
       "2         335279.91\n",
       "3         332343.61\n",
       "4         326373.19\n",
       "            ...    \n",
       "148621        15.35\n",
       "148622        13.77\n",
       "148623        13.35\n",
       "148624        12.89\n",
       "148625         6.00\n",
       "Name: TotalPay, Length: 148285, dtype: float64"
      ]
     },
     "execution_count": 132,
     "metadata": {},
     "output_type": "execute_result"
    }
   ],
   "source": [
    "df[\"TotalPay\"]"
   ]
  },
  {
   "cell_type": "code",
   "execution_count": 133,
   "metadata": {},
   "outputs": [
    {
     "data": {
      "text/plain": [
       "count    148285.000000\n",
       "mean      74954.383468\n",
       "std       50441.766219\n",
       "min           0.300000\n",
       "25%       36679.200000\n",
       "50%       71553.000000\n",
       "75%      105967.060000\n",
       "max      567595.430000\n",
       "Name: TotalPay, dtype: float64"
      ]
     },
     "execution_count": 133,
     "metadata": {},
     "output_type": "execute_result"
    }
   ],
   "source": [
    "df[\"TotalPay\"].describe()"
   ]
  },
  {
   "cell_type": "code",
   "execution_count": 146,
   "metadata": {},
   "outputs": [
    {
     "name": "stdout",
     "output_type": "stream",
     "text": [
      "189       2.788177\n",
      "190       2.787713\n",
      "191       2.786524\n",
      "192       2.783740\n",
      "193       2.781424\n",
      "            ...   \n",
      "148621   -1.527482\n",
      "148622   -1.527515\n",
      "148623   -1.527524\n",
      "148624   -1.527533\n",
      "148625   -1.527677\n",
      "Name: TotalPay, Length: 146837, dtype: float64\n"
     ]
    }
   ],
   "source": [
    "from scipy import stats\n",
    "z_scores = stats.zscore(df[\"TotalPay\"])\n",
    "print(z_scores)\n"
   ]
  },
  {
   "cell_type": "code",
   "execution_count": 154,
   "metadata": {},
   "outputs": [
    {
     "name": "stderr",
     "output_type": "stream",
     "text": [
      "/var/folders/8p/bff3r6t55wvfx0c5vm3vybw40000gn/T/ipykernel_24719/1419824833.py:5: UserWarning: Boolean Series key will be reindexed to match DataFrame index.\n",
      "  outliers = df[(z_scores > threshold) | (z_scores < -threshold)]\n",
      "/var/folders/8p/bff3r6t55wvfx0c5vm3vybw40000gn/T/ipykernel_24719/1419824833.py:8: UserWarning: Boolean Series key will be reindexed to match DataFrame index.\n",
      "  df= df[(z_scores <= threshold) & (z_scores >= -threshold)]\n"
     ]
    }
   ],
   "source": [
    "threshold = 1\n",
    "outliers = df[(z_scores > threshold) | (z_scores < -threshold)]\n",
    "df= df[(z_scores <= threshold) & (z_scores >= -threshold)]\n"
   ]
  },
  {
   "cell_type": "code",
   "execution_count": 156,
   "metadata": {},
   "outputs": [
    {
     "data": {
      "text/plain": [
       "count     90527.000000\n",
       "mean      74274.540012\n",
       "std       23709.975503\n",
       "min       25350.970000\n",
       "25%       57049.590000\n",
       "50%       73139.160000\n",
       "75%       92416.155000\n",
       "max      121410.730000\n",
       "Name: TotalPay, dtype: float64"
      ]
     },
     "execution_count": 156,
     "metadata": {},
     "output_type": "execute_result"
    }
   ],
   "source": [
    "df[\"TotalPay\"].describe()"
   ]
  },
  {
   "cell_type": "code",
   "execution_count": 157,
   "metadata": {},
   "outputs": [],
   "source": [
    "mean_total_pay = df['TotalPay'].mean()\n",
    "median_total_pay = df['TotalPay'].median()\n",
    "mode_total_pay = df['TotalPay'].mode()[0]\n",
    "min_total_pay = df['TotalPay'].min()\n",
    "max_total_pay = df['TotalPay'].max()\n",
    "total_pay_range = max_total_pay - min_total_pay\n",
    "std_deviation_total_pay = df['TotalPay'].std()\n",
    " "
   ]
  },
  {
   "cell_type": "code",
   "execution_count": 158,
   "metadata": {},
   "outputs": [
    {
     "data": {
      "text/plain": [
       "74274.54001248245"
      ]
     },
     "execution_count": 158,
     "metadata": {},
     "output_type": "execute_result"
    }
   ],
   "source": [
    "mean_total_pay"
   ]
  },
  {
   "cell_type": "code",
   "execution_count": 159,
   "metadata": {},
   "outputs": [
    {
     "data": {
      "text/plain": [
       "73139.16"
      ]
     },
     "execution_count": 159,
     "metadata": {},
     "output_type": "execute_result"
    }
   ],
   "source": [
    "median_total_pay"
   ]
  },
  {
   "cell_type": "code",
   "execution_count": 160,
   "metadata": {},
   "outputs": [
    {
     "data": {
      "text/plain": [
       "105489.0"
      ]
     },
     "execution_count": 160,
     "metadata": {},
     "output_type": "execute_result"
    }
   ],
   "source": [
    "mode_total_pay"
   ]
  },
  {
   "cell_type": "code",
   "execution_count": 161,
   "metadata": {},
   "outputs": [
    {
     "data": {
      "text/plain": [
       "25350.97"
      ]
     },
     "execution_count": 161,
     "metadata": {},
     "output_type": "execute_result"
    }
   ],
   "source": [
    "min_total_pay"
   ]
  },
  {
   "cell_type": "code",
   "execution_count": 162,
   "metadata": {},
   "outputs": [
    {
     "data": {
      "text/plain": [
       "121410.73"
      ]
     },
     "execution_count": 162,
     "metadata": {},
     "output_type": "execute_result"
    }
   ],
   "source": [
    "max_total_pay"
   ]
  },
  {
   "cell_type": "code",
   "execution_count": 163,
   "metadata": {},
   "outputs": [
    {
     "data": {
      "text/plain": [
       "96059.76"
      ]
     },
     "execution_count": 163,
     "metadata": {},
     "output_type": "execute_result"
    }
   ],
   "source": [
    "total_pay_range"
   ]
  },
  {
   "cell_type": "code",
   "execution_count": 164,
   "metadata": {},
   "outputs": [
    {
     "data": {
      "text/plain": [
       "23709.975502596255"
      ]
     },
     "execution_count": 164,
     "metadata": {},
     "output_type": "execute_result"
    }
   ],
   "source": [
    "std_deviation_total_pay"
   ]
  },
  {
   "cell_type": "markdown",
   "metadata": {},
   "source": [
    "--------------------"
   ]
  },
  {
   "cell_type": "code",
   "execution_count": 170,
   "metadata": {},
   "outputs": [
    {
     "data": {
      "image/png": "[encoded data removed]",
      "text/plain": [
       "<Figure size 1000x600 with 1 Axes>"
      ]
     },
     "metadata": {},
     "output_type": "display_data"
    }
   ],
   "source": [
    "plt.figure(figsize=(10, 6))\n",
    "sns.histplot(df['TotalPay'], bins=30, kde=True, color='skyblue')\n",
    "plt.xlabel('Total Pay (Salary)')\n",
    "plt.ylabel('Frequency')\n",
    "plt.show()\n"
   ]
  },
  {
   "cell_type": "code",
   "execution_count": 171,
   "metadata": {},
   "outputs": [
    {
     "data": {
      "image/png": "[encoded data removed]",
      "text/plain": [
       "<Figure size 1200x600 with 1 Axes>"
      ]
     },
     "metadata": {},
     "output_type": "display_data"
    }
   ],
   "source": [
    "\n",
    "department_counts = df['JobTitle'].value_counts()[:10]  # Assuming you want to plot the top 10 departments\n",
    "plt.figure(figsize=(12, 6))\n",
    "sns.barplot(x=department_counts.values, y=department_counts.index, palette='viridis')\n",
    "plt.xlabel('Number of Employees')\n",
    "plt.ylabel('Job Title')\n",
    "plt.show()\n"
   ]
  },
  {
   "cell_type": "code",
   "execution_count": 172,
   "metadata": {},
   "outputs": [
    {
     "data": {
      "image/png": "[encoded data removed]",
      "text/plain": [
       "<Figure size 800x800 with 1 Axes>"
      ]
     },
     "metadata": {},
     "output_type": "display_data"
    }
   ],
   "source": [
    "plt.figure(figsize=(8, 8))\n",
    "plt.pie(department_counts, labels=department_counts.index, autopct='%1.1f%%', startangle=140)\n",
    "plt.axis('equal')\n",
    "plt.show()\n"
   ]
  },
  {
   "cell_type": "code",
   "execution_count": 174,
   "metadata": {},
   "outputs": [
    {
     "data": {
      "text/html": [
       "<div>\n",
       "<style scoped>\n",
       "    .dataframe tbody tr th:only-of-type {\n",
       "        vertical-align: middle;\n",
       "    }\n",
       "\n",
       "    .dataframe tbody tr th {\n",
       "        vertical-align: top;\n",
       "    }\n",
       "\n",
       "    .dataframe thead th {\n",
       "        text-align: right;\n",
       "    }\n",
       "</style>\n",
       "<table border=\"1\" class=\"dataframe\">\n",
       "  <thead>\n",
       "    <tr style=\"text-align: right;\">\n",
       "      <th></th>\n",
       "      <th>JobTitle</th>\n",
       "      <th>count</th>\n",
       "      <th>mean</th>\n",
       "      <th>median</th>\n",
       "      <th>min</th>\n",
       "      <th>max</th>\n",
       "    </tr>\n",
       "  </thead>\n",
       "  <tbody>\n",
       "    <tr>\n",
       "      <th>0</th>\n",
       "      <td>ACCOUNT CLERK</td>\n",
       "      <td>73</td>\n",
       "      <td>48310.103699</td>\n",
       "      <td>49777.850</td>\n",
       "      <td>29981.57</td>\n",
       "      <td>60838.20</td>\n",
       "    </tr>\n",
       "    <tr>\n",
       "      <th>1</th>\n",
       "      <td>ACCOUNTANT</td>\n",
       "      <td>4</td>\n",
       "      <td>58999.485000</td>\n",
       "      <td>62650.775</td>\n",
       "      <td>45304.38</td>\n",
       "      <td>65392.01</td>\n",
       "    </tr>\n",
       "    <tr>\n",
       "      <th>2</th>\n",
       "      <td>ACCOUNTANT INTERN</td>\n",
       "      <td>23</td>\n",
       "      <td>49534.622609</td>\n",
       "      <td>53789.800</td>\n",
       "      <td>30832.81</td>\n",
       "      <td>58799.53</td>\n",
       "    </tr>\n",
       "    <tr>\n",
       "      <th>3</th>\n",
       "      <td>ACPO,JuvP, Juv Prob (SFERS)</td>\n",
       "      <td>1</td>\n",
       "      <td>62290.780000</td>\n",
       "      <td>62290.780</td>\n",
       "      <td>62290.78</td>\n",
       "      <td>62290.78</td>\n",
       "    </tr>\n",
       "    <tr>\n",
       "      <th>4</th>\n",
       "      <td>ACUPUNCTURIST</td>\n",
       "      <td>1</td>\n",
       "      <td>67594.400000</td>\n",
       "      <td>67594.400</td>\n",
       "      <td>67594.40</td>\n",
       "      <td>67594.40</td>\n",
       "    </tr>\n",
       "    <tr>\n",
       "      <th>...</th>\n",
       "      <td>...</td>\n",
       "      <td>...</td>\n",
       "      <td>...</td>\n",
       "      <td>...</td>\n",
       "      <td>...</td>\n",
       "      <td>...</td>\n",
       "    </tr>\n",
       "    <tr>\n",
       "      <th>1905</th>\n",
       "      <td>X-RAY LABORATORY AIDE</td>\n",
       "      <td>21</td>\n",
       "      <td>61246.605714</td>\n",
       "      <td>61307.670</td>\n",
       "      <td>40554.31</td>\n",
       "      <td>85077.40</td>\n",
       "    </tr>\n",
       "    <tr>\n",
       "      <th>1906</th>\n",
       "      <td>X-Ray Laboratory Aide</td>\n",
       "      <td>80</td>\n",
       "      <td>59635.176125</td>\n",
       "      <td>64481.990</td>\n",
       "      <td>25376.40</td>\n",
       "      <td>99812.97</td>\n",
       "    </tr>\n",
       "    <tr>\n",
       "      <th>1907</th>\n",
       "      <td>YOUTH COMMISSION ADVISOR, BOARD OF SUPERVISORS</td>\n",
       "      <td>1</td>\n",
       "      <td>53632.870000</td>\n",
       "      <td>53632.870</td>\n",
       "      <td>53632.87</td>\n",
       "      <td>53632.87</td>\n",
       "    </tr>\n",
       "    <tr>\n",
       "      <th>1908</th>\n",
       "      <td>Youth Comm Advisor</td>\n",
       "      <td>3</td>\n",
       "      <td>48814.840000</td>\n",
       "      <td>52433.880</td>\n",
       "      <td>36465.91</td>\n",
       "      <td>57544.73</td>\n",
       "    </tr>\n",
       "    <tr>\n",
       "      <th>1909</th>\n",
       "      <td>ZOO CURATOR</td>\n",
       "      <td>1</td>\n",
       "      <td>66686.560000</td>\n",
       "      <td>66686.560</td>\n",
       "      <td>66686.56</td>\n",
       "      <td>66686.56</td>\n",
       "    </tr>\n",
       "  </tbody>\n",
       "</table>\n",
       "<p>1910 rows × 6 columns</p>\n",
       "</div>"
      ],
      "text/plain": [
       "                                            JobTitle  count          mean  \\\n",
       "0                                      ACCOUNT CLERK     73  48310.103699   \n",
       "1                                         ACCOUNTANT      4  58999.485000   \n",
       "2                                  ACCOUNTANT INTERN     23  49534.622609   \n",
       "3                        ACPO,JuvP, Juv Prob (SFERS)      1  62290.780000   \n",
       "4                                      ACUPUNCTURIST      1  67594.400000   \n",
       "...                                              ...    ...           ...   \n",
       "1905                           X-RAY LABORATORY AIDE     21  61246.605714   \n",
       "1906                           X-Ray Laboratory Aide     80  59635.176125   \n",
       "1907  YOUTH COMMISSION ADVISOR, BOARD OF SUPERVISORS      1  53632.870000   \n",
       "1908                              Youth Comm Advisor      3  48814.840000   \n",
       "1909                                     ZOO CURATOR      1  66686.560000   \n",
       "\n",
       "         median       min       max  \n",
       "0     49777.850  29981.57  60838.20  \n",
       "1     62650.775  45304.38  65392.01  \n",
       "2     53789.800  30832.81  58799.53  \n",
       "3     62290.780  62290.78  62290.78  \n",
       "4     67594.400  67594.40  67594.40  \n",
       "...         ...       ...       ...  \n",
       "1905  61307.670  40554.31  85077.40  \n",
       "1906  64481.990  25376.40  99812.97  \n",
       "1907  53632.870  53632.87  53632.87  \n",
       "1908  52433.880  36465.91  57544.73  \n",
       "1909  66686.560  66686.56  66686.56  \n",
       "\n",
       "[1910 rows x 6 columns]"
      ]
     },
     "execution_count": 174,
     "metadata": {},
     "output_type": "execute_result"
    }
   ],
   "source": [
    "grouped_by_department = df.groupby('JobTitle')['TotalPay'].agg(['count', 'mean', 'median', 'min', 'max']).reset_index()\n",
    "grouped_by_department"
   ]
  },
  {
   "cell_type": "code",
   "execution_count": 175,
   "metadata": {},
   "outputs": [
    {
     "data": {
      "text/html": [
       "<div>\n",
       "<style scoped>\n",
       "    .dataframe tbody tr th:only-of-type {\n",
       "        vertical-align: middle;\n",
       "    }\n",
       "\n",
       "    .dataframe tbody tr th {\n",
       "        vertical-align: top;\n",
       "    }\n",
       "\n",
       "    .dataframe thead th {\n",
       "        text-align: right;\n",
       "    }\n",
       "</style>\n",
       "<table border=\"1\" class=\"dataframe\">\n",
       "  <thead>\n",
       "    <tr style=\"text-align: right;\">\n",
       "      <th></th>\n",
       "      <th>JobTitle</th>\n",
       "      <th>Year</th>\n",
       "      <th>count</th>\n",
       "      <th>mean</th>\n",
       "      <th>median</th>\n",
       "      <th>min</th>\n",
       "      <th>max</th>\n",
       "    </tr>\n",
       "  </thead>\n",
       "  <tbody>\n",
       "    <tr>\n",
       "      <th>0</th>\n",
       "      <td>ACCOUNT CLERK</td>\n",
       "      <td>2011</td>\n",
       "      <td>73</td>\n",
       "      <td>48310.103699</td>\n",
       "      <td>49777.850</td>\n",
       "      <td>29981.57</td>\n",
       "      <td>60838.20</td>\n",
       "    </tr>\n",
       "    <tr>\n",
       "      <th>1</th>\n",
       "      <td>ACCOUNTANT</td>\n",
       "      <td>2011</td>\n",
       "      <td>4</td>\n",
       "      <td>58999.485000</td>\n",
       "      <td>62650.775</td>\n",
       "      <td>45304.38</td>\n",
       "      <td>65392.01</td>\n",
       "    </tr>\n",
       "    <tr>\n",
       "      <th>2</th>\n",
       "      <td>ACCOUNTANT INTERN</td>\n",
       "      <td>2011</td>\n",
       "      <td>23</td>\n",
       "      <td>49534.622609</td>\n",
       "      <td>53789.800</td>\n",
       "      <td>30832.81</td>\n",
       "      <td>58799.53</td>\n",
       "    </tr>\n",
       "    <tr>\n",
       "      <th>3</th>\n",
       "      <td>ACPO,JuvP, Juv Prob (SFERS)</td>\n",
       "      <td>2014</td>\n",
       "      <td>1</td>\n",
       "      <td>62290.780000</td>\n",
       "      <td>62290.780</td>\n",
       "      <td>62290.78</td>\n",
       "      <td>62290.78</td>\n",
       "    </tr>\n",
       "    <tr>\n",
       "      <th>4</th>\n",
       "      <td>ACUPUNCTURIST</td>\n",
       "      <td>2011</td>\n",
       "      <td>1</td>\n",
       "      <td>67594.400000</td>\n",
       "      <td>67594.400</td>\n",
       "      <td>67594.40</td>\n",
       "      <td>67594.40</td>\n",
       "    </tr>\n",
       "    <tr>\n",
       "      <th>...</th>\n",
       "      <td>...</td>\n",
       "      <td>...</td>\n",
       "      <td>...</td>\n",
       "      <td>...</td>\n",
       "      <td>...</td>\n",
       "      <td>...</td>\n",
       "      <td>...</td>\n",
       "    </tr>\n",
       "    <tr>\n",
       "      <th>3552</th>\n",
       "      <td>YOUTH COMMISSION ADVISOR, BOARD OF SUPERVISORS</td>\n",
       "      <td>2011</td>\n",
       "      <td>1</td>\n",
       "      <td>53632.870000</td>\n",
       "      <td>53632.870</td>\n",
       "      <td>53632.87</td>\n",
       "      <td>53632.87</td>\n",
       "    </tr>\n",
       "    <tr>\n",
       "      <th>3553</th>\n",
       "      <td>Youth Comm Advisor</td>\n",
       "      <td>2012</td>\n",
       "      <td>1</td>\n",
       "      <td>57544.730000</td>\n",
       "      <td>57544.730</td>\n",
       "      <td>57544.73</td>\n",
       "      <td>57544.73</td>\n",
       "    </tr>\n",
       "    <tr>\n",
       "      <th>3554</th>\n",
       "      <td>Youth Comm Advisor</td>\n",
       "      <td>2013</td>\n",
       "      <td>1</td>\n",
       "      <td>52433.880000</td>\n",
       "      <td>52433.880</td>\n",
       "      <td>52433.88</td>\n",
       "      <td>52433.88</td>\n",
       "    </tr>\n",
       "    <tr>\n",
       "      <th>3555</th>\n",
       "      <td>Youth Comm Advisor</td>\n",
       "      <td>2014</td>\n",
       "      <td>1</td>\n",
       "      <td>36465.910000</td>\n",
       "      <td>36465.910</td>\n",
       "      <td>36465.91</td>\n",
       "      <td>36465.91</td>\n",
       "    </tr>\n",
       "    <tr>\n",
       "      <th>3556</th>\n",
       "      <td>ZOO CURATOR</td>\n",
       "      <td>2011</td>\n",
       "      <td>1</td>\n",
       "      <td>66686.560000</td>\n",
       "      <td>66686.560</td>\n",
       "      <td>66686.56</td>\n",
       "      <td>66686.56</td>\n",
       "    </tr>\n",
       "  </tbody>\n",
       "</table>\n",
       "<p>3557 rows × 7 columns</p>\n",
       "</div>"
      ],
      "text/plain": [
       "                                            JobTitle  Year  count  \\\n",
       "0                                      ACCOUNT CLERK  2011     73   \n",
       "1                                         ACCOUNTANT  2011      4   \n",
       "2                                  ACCOUNTANT INTERN  2011     23   \n",
       "3                        ACPO,JuvP, Juv Prob (SFERS)  2014      1   \n",
       "4                                      ACUPUNCTURIST  2011      1   \n",
       "...                                              ...   ...    ...   \n",
       "3552  YOUTH COMMISSION ADVISOR, BOARD OF SUPERVISORS  2011      1   \n",
       "3553                              Youth Comm Advisor  2012      1   \n",
       "3554                              Youth Comm Advisor  2013      1   \n",
       "3555                              Youth Comm Advisor  2014      1   \n",
       "3556                                     ZOO CURATOR  2011      1   \n",
       "\n",
       "              mean     median       min       max  \n",
       "0     48310.103699  49777.850  29981.57  60838.20  \n",
       "1     58999.485000  62650.775  45304.38  65392.01  \n",
       "2     49534.622609  53789.800  30832.81  58799.53  \n",
       "3     62290.780000  62290.780  62290.78  62290.78  \n",
       "4     67594.400000  67594.400  67594.40  67594.40  \n",
       "...            ...        ...       ...       ...  \n",
       "3552  53632.870000  53632.870  53632.87  53632.87  \n",
       "3553  57544.730000  57544.730  57544.73  57544.73  \n",
       "3554  52433.880000  52433.880  52433.88  52433.88  \n",
       "3555  36465.910000  36465.910  36465.91  36465.91  \n",
       "3556  66686.560000  66686.560  66686.56  66686.56  \n",
       "\n",
       "[3557 rows x 7 columns]"
      ]
     },
     "execution_count": 175,
     "metadata": {},
     "output_type": "execute_result"
    }
   ],
   "source": [
    "grouped_by_department_year = df.groupby(['JobTitle', 'Year'])['TotalPay'].agg(['count', 'mean', 'median', 'min', 'max']).reset_index()\n",
    "grouped_by_department_year"
   ]
  },
  {
   "cell_type": "code",
   "execution_count": 176,
   "metadata": {},
   "outputs": [
    {
     "data": {
      "text/html": [
       "<div>\n",
       "<style scoped>\n",
       "    .dataframe tbody tr th:only-of-type {\n",
       "        vertical-align: middle;\n",
       "    }\n",
       "\n",
       "    .dataframe tbody tr th {\n",
       "        vertical-align: top;\n",
       "    }\n",
       "\n",
       "    .dataframe thead th {\n",
       "        text-align: right;\n",
       "    }\n",
       "</style>\n",
       "<table border=\"1\" class=\"dataframe\">\n",
       "  <thead>\n",
       "    <tr style=\"text-align: right;\">\n",
       "      <th></th>\n",
       "      <th>JobTitle</th>\n",
       "      <th>mean</th>\n",
       "    </tr>\n",
       "  </thead>\n",
       "  <tbody>\n",
       "    <tr>\n",
       "      <th>311</th>\n",
       "      <td>COURT ADMINISTRATOR</td>\n",
       "      <td>121173.34</td>\n",
       "    </tr>\n",
       "    <tr>\n",
       "      <th>266</th>\n",
       "      <td>CHIEF STATIONARY ENGINEER, WATER TREATMENT PLANT</td>\n",
       "      <td>121051.25</td>\n",
       "    </tr>\n",
       "    <tr>\n",
       "      <th>319</th>\n",
       "      <td>COURT COMPUTER FACILITIES COORDINATOR</td>\n",
       "      <td>120994.60</td>\n",
       "    </tr>\n",
       "    <tr>\n",
       "      <th>1173</th>\n",
       "      <td>PLUMBER SUPERVISOR II</td>\n",
       "      <td>120929.23</td>\n",
       "    </tr>\n",
       "    <tr>\n",
       "      <th>1208</th>\n",
       "      <td>PRINCIPAL REAL PROPERTY OFFICER</td>\n",
       "      <td>120049.00</td>\n",
       "    </tr>\n",
       "  </tbody>\n",
       "</table>\n",
       "</div>"
      ],
      "text/plain": [
       "                                              JobTitle       mean\n",
       "311                                COURT ADMINISTRATOR  121173.34\n",
       "266   CHIEF STATIONARY ENGINEER, WATER TREATMENT PLANT  121051.25\n",
       "319              COURT COMPUTER FACILITIES COORDINATOR  120994.60\n",
       "1173                             PLUMBER SUPERVISOR II  120929.23\n",
       "1208                   PRINCIPAL REAL PROPERTY OFFICER  120049.00"
      ]
     },
     "execution_count": 176,
     "metadata": {},
     "output_type": "execute_result"
    }
   ],
   "source": [
    "average_salary_by_department = grouped_by_department[['JobTitle', 'mean']]\n",
    "average_salary_by_department = average_salary_by_department.sort_values(by='mean', ascending=False)\n",
    "average_salary_by_department.head()\n"
   ]
  },
  {
   "cell_type": "code",
   "execution_count": 178,
   "metadata": {},
   "outputs": [
    {
     "data": {
      "image/png": "[encoded data removed]",
      "text/plain": [
       "<Figure size 1000x600 with 2 Axes>"
      ]
     },
     "metadata": {},
     "output_type": "display_data"
    }
   ],
   "source": [
    "correlation_matrix = df[['TotalPay', 'BasePay', 'OvertimePay', 'OtherPay', 'Benefits']].corr()\n",
    "plt.figure(figsize=(10, 6))\n",
    "sns.heatmap(correlation_matrix, annot=True, cmap='coolwarm', linewidths=0.5)\n",
    "plt.show()"
   ]
  },
  {
   "cell_type": "markdown",
   "metadata": {},
   "source": [
    "High Correlation between TotalPay and BasePay: The correlation coefficient of 0.93 indicates a very strong positive relationship between TotalPay and BasePay. This suggests that BasePay is a significant component of TotalPay and that as BasePay increases, TotalPay tends to increase as well.\n",
    "Moderate Correlation between TotalPay and Benefits: The correlation coefficient of 0.4 implies a moderate positive relationship between TotalPay and Benefits. This means that there is some tendency for TotalPay to increase with Benefits, but other factors also play a substantial role in determining TotalPay.\n",
    "Low Correlation between OvertimePay and Other Variables: OvertimePay shows a low positive correlation with TotalPay (0.31) and an even lower correlation with Benefits (0.086). This suggests that OvertimePay contributes to the total compensation but not as significantly as BasePay does. The low correlation with Benefits indicates that the provision of benefits is not strongly linked with the amount of overtime pay.\n",
    "Negligible or No Correlation between OtherPay and Other Variables: OtherPay has negligible correlations with BasePay (-0.019) and Benefits (-0.024), and a low positive correlation with TotalPay (0.23). This indicates that OtherPay is relatively independent of the other types of compensation and does not significantly influence the total compensation package.\n",
    "BasePay and Benefits Correlation: There is a correlation coefficient of 0.4 between BasePay and Benefits, suggesting a moderate positive relationship. This indicates that employees with higher base salaries may also receive more benefits, although other factors are also influencing the benefits received.\n"
   ]
  }
 ],
 "metadata": {
  "colab": {
   "provenance": []
  },
  "kernelspec": {
   "display_name": "Python 3 (ipykernel)",
   "language": "python",
   "name": "python3"
  },
  "language_info": {
   "codemirror_mode": {
    "name": "ipython",
    "version": 3
   },
   "file_extension": ".py",
   "mimetype": "text/x-python",
   "name": "python",
   "nbconvert_exporter": "python",
   "pygments_lexer": "ipython3",
   "version": "3.11.5"
  }
 },
 "nbformat": 4,
 "nbformat_minor": 1
}
